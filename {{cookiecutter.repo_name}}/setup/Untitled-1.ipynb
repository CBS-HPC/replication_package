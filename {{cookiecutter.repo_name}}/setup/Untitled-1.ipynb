{
 "cells": [
  {
   "cell_type": "code",
   "execution_count": 1,
   "metadata": {},
   "outputs": [
    {
     "name": "stdout",
     "output_type": "stream",
     "text": [
      "9.11.0.2022996 (R2021b) Update 4\n",
      "\n"
     ]
    }
   ],
   "source": [
    "import os\n",
    "import subprocess\n",
    "import sys\n",
    "import platform\n",
    "\n",
    "\n",
    "exe_path = r\"C:\\Program Files\\MATLAB\\R2021b\\bin\\matlab.exe\"\n",
    "result = subprocess.run([exe_path, \"-batch\", \"disp(version)\"], capture_output=True, text=True)\n",
    "#version\n",
    "\n",
    "\n",
    "#result = subprocess.run([\"matlab\", \"-batch\", \"disp(version)\"], capture_output=True, text=True)\n",
    "\n",
    "print(result.stdout)  # Print MATLAB output\n",
    "#print(result.stderr)  # Print any errors"
   ]
  },
  {
   "cell_type": "code",
   "execution_count": null,
   "metadata": {},
   "outputs": [
    {
     "ename": "NameError",
     "evalue": "name 'stata_output' is not defined",
     "output_type": "error",
     "traceback": [
      "\u001b[1;31m---------------------------------------------------------------------------\u001b[0m",
      "\u001b[1;31mNameError\u001b[0m                                 Traceback (most recent call last)",
      "Cell \u001b[1;32mIn[3], line 4\u001b[0m\n\u001b[0;32m      1\u001b[0m stata_path \u001b[38;5;241m=\u001b[39m \u001b[38;5;124mr\u001b[39m\u001b[38;5;124m\"\u001b[39m\u001b[38;5;124mC:\u001b[39m\u001b[38;5;124m\\\u001b[39m\u001b[38;5;124mProgram Files\u001b[39m\u001b[38;5;124m\\\u001b[39m\u001b[38;5;124mStata18\u001b[39m\u001b[38;5;124m\\\u001b[39m\u001b[38;5;124mStataSE-64.exe\u001b[39m\u001b[38;5;124m\"\u001b[39m\n\u001b[0;32m      3\u001b[0m edition \u001b[38;5;241m=\u001b[39m \u001b[38;5;124m\"\u001b[39m\u001b[38;5;124mSE\u001b[39m\u001b[38;5;124m\"\u001b[39m \u001b[38;5;28;01mif\u001b[39;00m \u001b[38;5;124m\"\u001b[39m\u001b[38;5;124mSE\u001b[39m\u001b[38;5;124m\"\u001b[39m \u001b[38;5;129;01min\u001b[39;00m stata_path \u001b[38;5;28;01melse\u001b[39;00m (\u001b[38;5;124m\"\u001b[39m\u001b[38;5;124mMP\u001b[39m\u001b[38;5;124m\"\u001b[39m \u001b[38;5;28;01mif\u001b[39;00m \u001b[38;5;124m\"\u001b[39m\u001b[38;5;124mMP\u001b[39m\u001b[38;5;124m\"\u001b[39m \u001b[38;5;129;01min\u001b[39;00m stata_path \u001b[38;5;28;01melse\u001b[39;00m \u001b[38;5;124m\"\u001b[39m\u001b[38;5;124mIC\u001b[39m\u001b[38;5;124m\"\u001b[39m)\n\u001b[1;32m----> 4\u001b[0m version \u001b[38;5;241m=\u001b[39m \u001b[43mstata_output\u001b[49m\u001b[38;5;241m.\u001b[39msplit()[\u001b[38;5;241m0\u001b[39m]  \u001b[38;5;66;03m# Get the version number (e.g., \"18.0\")\u001b[39;00m\n\u001b[0;32m      6\u001b[0m \u001b[38;5;124mf\u001b[39m\u001b[38;5;124m\"\u001b[39m\u001b[38;5;124mStata \u001b[39m\u001b[38;5;132;01m{\u001b[39;00mversion\u001b[38;5;132;01m}\u001b[39;00m\u001b[38;5;124m \u001b[39m\u001b[38;5;132;01m{\u001b[39;00medition\u001b[38;5;132;01m}\u001b[39;00m\u001b[38;5;124m\"\u001b[39m\n",
      "\u001b[1;31mNameError\u001b[0m: name 'stata_output' is not defined"
     ]
    }
   ],
   "source": [
    "stata_path = r\"C:\\Program Files\\Stata18\\StataSE-64.exe\"\n",
    "\n",
    "edition = \"SE\" if \"SE\" in stata_path else (\"MP\" if \"MP\" in stata_path else \"IC\")\n",
    "version = os.base_path(stata_path)  # Get the version number (e.g., \"18.0\")\n",
    "\n",
    "f\"Stata {version} {edition}\""
   ]
  },
  {
   "cell_type": "code",
   "execution_count": 2,
   "metadata": {},
   "outputs": [
    {
     "name": "stdout",
     "output_type": "stream",
     "text": [
      "\n",
      "\n"
     ]
    }
   ],
   "source": [
    "import subprocess\n",
    "\n",
    "stata_path = r\"C:\\Program Files\\Stata18\\StataSE-64.exe\"\n",
    "command = 'display c(version)'\n",
    "\n",
    "result = subprocess.run([stata_path, \"/e\", \"do\", f\"echo {command}\"], capture_output=True, text=True)\n",
    "\n",
    "print(result.stdout)  # Print Stata output\n",
    "print(result.stderr)  # Print any errors"
   ]
  },
  {
   "cell_type": "code",
   "execution_count": 3,
   "metadata": {},
   "outputs": [
    {
     "name": "stdout",
     "output_type": "stream",
     "text": [
      "\n",
      "\n"
     ]
    }
   ],
   "source": [
    "import subprocess\n",
    "import tempfile\n",
    "\n",
    "stata_path = r\"C:/Program Files/Stata18/StataSE-64.exe\"\n",
    "\n",
    "# Create a temporary .do file\n",
    "with tempfile.NamedTemporaryFile(suffix=\".do\", delete=False, mode=\"w\") as temp_do:\n",
    "    temp_do.write(\"display c(version)\\nexit\")\n",
    "    temp_do_path = temp_do.name\n",
    "\n",
    "# Run Stata with the .do file\n",
    "result = subprocess.run([stata_path, \"/e\", \"do\", temp_do_path], capture_output=True, text=True)\n",
    "\n",
    "print(result.stdout)  # Stata output\n",
    "print(result.stderr)  # Stata errors\n"
   ]
  },
  {
   "cell_type": "code",
   "execution_count": 1,
   "metadata": {},
   "outputs": [
    {
     "name": "stdout",
     "output_type": "stream",
     "text": [
      "STDOUT: \n",
      "STDERR: \n"
     ]
    }
   ],
   "source": [
    "import subprocess\n",
    "import tempfile\n",
    "import os\n",
    "\n",
    "stata_path = r\"C:\\Program Files\\Stata18\\StataSE-64.exe\"\n",
    "\n",
    "# Create a temporary .do file\n",
    "with tempfile.NamedTemporaryFile(suffix=\".do\", delete=False, mode=\"w\") as temp_do:\n",
    "    temp_do.write(\"display c(version)\\nexit\\n\")\n",
    "    temp_do_path = temp_do.name\n",
    "\n",
    "# Run Stata with the .do file\n",
    "result = subprocess.run([stata_path, \"/e\", \"do\", temp_do_path], capture_output=True, text=True)\n",
    "\n",
    "# Clean up temp file\n",
    "os.remove(temp_do_path)\n",
    "\n",
    "# Print output\n",
    "print(\"STDOUT:\", result.stdout.strip())  # Expected: Stata version number\n",
    "print(\"STDERR:\", result.stderr.strip())  # Print errors, if any\n"
   ]
  },
  {
   "cell_type": "code",
   "execution_count": null,
   "metadata": {},
   "outputs": [
    {
     "name": "stdout",
     "output_type": "stream",
     "text": [
      "\n",
      "\n"
     ]
    }
   ],
   "source": [
    "print(result.stdout)  # Stata output\n",
    "print(result.stderr)  # Stata errors"
   ]
  }
 ],
 "metadata": {
  "kernelspec": {
   "display_name": "moody_datahub",
   "language": "python",
   "name": "python3"
  },
  "language_info": {
   "codemirror_mode": {
    "name": "ipython",
    "version": 3
   },
   "file_extension": ".py",
   "mimetype": "text/x-python",
   "name": "python",
   "nbconvert_exporter": "python",
   "pygments_lexer": "ipython3",
   "version": "3.11.5"
  }
 },
 "nbformat": 4,
 "nbformat_minor": 2
}
