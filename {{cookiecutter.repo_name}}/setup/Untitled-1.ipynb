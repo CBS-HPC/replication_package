{
 "cells": [
  {
   "cell_type": "code",
   "execution_count": 2,
   "metadata": {},
   "outputs": [],
   "source": [
    "import os\n",
    "import re\n",
    "\n",
    "def is_valid_version(version: str, software: str) -> bool:\n",
    "    \"\"\"\n",
    "    Validate if the inputted version follows the general versioning structure for R or Python.\n",
    "\n",
    "    Args:\n",
    "        version (str): The version string to validate.\n",
    "        software (str): The software name ('r' or 'python').\n",
    "\n",
    "    Returns:\n",
    "        bool: True if the version is valid, False otherwise.\n",
    "    \"\"\"\n",
    "    version_pattern = {\n",
    "        \"r\": r\"^\\d+(\\.\\d+){0,2}$\",  # Matches '4', '4.3', or '4.4.3'\n",
    "        \"python\": r\"^\\d+(\\.\\d+){0,2}$\"  # Matches '3', '3.12', or '3.9.3'\n",
    "    }\n",
    "    \n",
    "    if software.lower() not in version_pattern:\n",
    "        raise ValueError(\"Software must be 'r' or 'python'\")\n",
    "    \n",
    "    return version == \"\" or bool(re.fullmatch(version_pattern[software.lower()], version))\n"
   ]
  },
  {
   "cell_type": "code",
   "execution_count": 8,
   "metadata": {},
   "outputs": [
    {
     "name": "stdout",
     "output_type": "stream",
     "text": [
      "a\n"
     ]
    }
   ],
   "source": [
    "\n",
    "r_version = input(\"Do you want to specify a R version (e.g. '4.4.3' or '4.3') to be installed by conda (not foul proof): \").strip()\n",
    "print(r_version)"
   ]
  },
  {
   "cell_type": "code",
   "execution_count": 4,
   "metadata": {},
   "outputs": [],
   "source": [
    "import subprocess\n",
    "def create_conda_env(command,msg,dry_run:bool = False):\n",
    "    \"\"\"\n",
    "    Create a conda environment from an environment.yml file with a specified name.\n",
    "    \n",
    "    Parameters:\n",
    "    - env_file: str, path to the environment YAML file. Defaults to 'environment.yml'.\n",
    "    - env_name: str, optional name for the new environment. If provided, overrides the name in the YAML file.\n",
    "    \"\"\"\n",
    "    try:\n",
    "        if dry_run:\n",
    "            command.extend([\"--dry-run\"])\n",
    "        # Run the command\n",
    "        subprocess.run(command, check=True)\n",
    "        print(msg)\n",
    "        return True\n",
    "    except subprocess.CalledProcessError as e:\n",
    "        print(f\"Failed to create conda environment: {e}\")\n",
    "    except FileNotFoundError:\n",
    "        print(\"Conda is not installed or not found in the system path.\")\n",
    "    except Exception as e:\n",
    "        print(f\"An error occurred: {e}\")\n",
    "    return False"
   ]
  },
  {
   "cell_type": "code",
   "execution_count": 7,
   "metadata": {},
   "outputs": [],
   "source": [
    "command = ['conda', 'create', '--yes', '--prefix', 'C:\\\\Users\\\\kgp.lib\\\\OneDrive - CBS - Copenhagen Business School\\\\Desktop\\\\replication_test\\\\test_003bin\\\\conda\\\\test_003', '-c', 'conda-forge', 'python 3.12']"
   ]
  },
  {
   "cell_type": "code",
   "execution_count": 18,
   "metadata": {},
   "outputs": [
    {
     "name": "stdout",
     "output_type": "stream",
     "text": [
      "C:\\Users\\kgp.lib\\OneDrive - CBS - Copenhagen Business School\\Desktop\\replication_test\\test_0014\\bin\\rclone*\n",
      "['C:\\\\Users\\\\kgp.lib\\\\OneDrive - CBS - Copenhagen Business School\\\\Desktop\\\\replication_test\\\\test_0014\\\\bin\\\\rclone-v1.69.1-windows-amd64']\n"
     ]
    }
   ],
   "source": [
    "import os \n",
    "import glob\n",
    "\n",
    "install_path = \"C:\\\\Users\\\\kgp.lib\\\\OneDrive - CBS - Copenhagen Business School\\\\Desktop\\\\replication_test\\\\test_0014\\\\bin\"\n",
    "print(os.path.join(install_path, 'rclone*'))\n",
    "rclone_folder = glob.glob(os.path.join(install_path, 'rclone-*'))\n",
    "print(rclone_folder)"
   ]
  },
  {
   "cell_type": "code",
   "execution_count": 8,
   "metadata": {},
   "outputs": [
    {
     "name": "stdout",
     "output_type": "stream",
     "text": [
      "hello\n"
     ]
    },
    {
     "data": {
      "text/plain": [
       "True"
      ]
     },
     "execution_count": 8,
     "metadata": {},
     "output_type": "execute_result"
    }
   ],
   "source": [
    "create_conda_env(command,\"hello\",True)"
   ]
  },
  {
   "cell_type": "code",
   "execution_count": 9,
   "metadata": {},
   "outputs": [
    {
     "data": {
      "text/plain": [
       "False"
      ]
     },
     "execution_count": 9,
     "metadata": {},
     "output_type": "execute_result"
    }
   ],
   "source": [
    "is_valid_version(r_version,'r')"
   ]
  }
 ],
 "metadata": {
  "kernelspec": {
   "display_name": "base",
   "language": "python",
   "name": "python3"
  },
  "language_info": {
   "codemirror_mode": {
    "name": "ipython",
    "version": 3
   },
   "file_extension": ".py",
   "mimetype": "text/x-python",
   "name": "python",
   "nbconvert_exporter": "python",
   "pygments_lexer": "ipython3",
   "version": "3.9.13"
  }
 },
 "nbformat": 4,
 "nbformat_minor": 2
}
