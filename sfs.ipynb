{
 "cells": [
  {
   "cell_type": "code",
   "execution_count": 1,
   "metadata": {},
   "outputs": [],
   "source": [
    "\n",
    "import os\n",
    "def get_relative_path(target_path):\n",
    "\n",
    "    if target_path:\n",
    "        current_dir = os.getcwd()\n",
    "        absolute_target_path = os.path.abspath(target_path)\n",
    "        \n",
    "        # Check if target_path is a subpath of current_dir\n",
    "        if os.path.commonpath([current_dir, absolute_target_path]) == current_dir:\n",
    "            # Create a relative path if it is a subpath\n",
    "            relative_path = os.path.relpath(absolute_target_path, current_dir)\n",
    "            return relative_path\n",
    "    return target_path"
   ]
  },
  {
   "cell_type": "code",
   "execution_count": 2,
   "metadata": {},
   "outputs": [],
   "source": [
    "current_dir = os.getcwd()"
   ]
  }
 ],
 "metadata": {
  "kernelspec": {
   "display_name": "moody_datahub",
   "language": "python",
   "name": "python3"
  },
  "language_info": {
   "codemirror_mode": {
    "name": "ipython",
    "version": 3
   },
   "file_extension": ".py",
   "mimetype": "text/x-python",
   "name": "python",
   "nbconvert_exporter": "python",
   "pygments_lexer": "ipython3",
   "version": "3.11.5"
  }
 },
 "nbformat": 4,
 "nbformat_minor": 2
}
