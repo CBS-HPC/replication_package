{
 "cells": [
  {
   "cell_type": "code",
   "execution_count": 2,
   "metadata": {},
   "outputs": [],
   "source": [
    "import os\n",
    "import re\n",
    "\n",
    "def is_valid_version(version: str, software: str) -> bool:\n",
    "    \"\"\"\n",
    "    Validate if the inputted version follows the general versioning structure for R or Python.\n",
    "\n",
    "    Args:\n",
    "        version (str): The version string to validate.\n",
    "        software (str): The software name ('r' or 'python').\n",
    "\n",
    "    Returns:\n",
    "        bool: True if the version is valid, False otherwise.\n",
    "    \"\"\"\n",
    "    version_pattern = {\n",
    "        \"r\": r\"^\\d+(\\.\\d+){0,2}$\",  # Matches '4', '4.3', or '4.4.3'\n",
    "        \"python\": r\"^\\d+(\\.\\d+){0,2}$\"  # Matches '3', '3.12', or '3.9.3'\n",
    "    }\n",
    "    \n",
    "    if software.lower() not in version_pattern:\n",
    "        raise ValueError(\"Software must be 'r' or 'python'\")\n",
    "    \n",
    "    return version == \"\" or bool(re.fullmatch(version_pattern[software.lower()], version))\n"
   ]
  },
  {
   "cell_type": "code",
   "execution_count": null,
   "metadata": {},
   "outputs": [
    {
     "data": {
      "text/plain": [
       "True"
      ]
     },
     "execution_count": 3,
     "metadata": {},
     "output_type": "execute_result"
    }
   ],
   "source": [
    "is_valid_version(\"\",'r')"
   ]
  }
 ],
 "metadata": {
  "kernelspec": {
   "display_name": "moody_datahub",
   "language": "python",
   "name": "python3"
  },
  "language_info": {
   "codemirror_mode": {
    "name": "ipython",
    "version": 3
   },
   "file_extension": ".py",
   "mimetype": "text/x-python",
   "name": "python",
   "nbconvert_exporter": "python",
   "pygments_lexer": "ipython3",
   "version": "3.11.5"
  }
 },
 "nbformat": 4,
 "nbformat_minor": 2
}
